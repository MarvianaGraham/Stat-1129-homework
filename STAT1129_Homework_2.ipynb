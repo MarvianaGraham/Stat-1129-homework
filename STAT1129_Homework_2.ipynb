{
  "nbformat": 4,
  "nbformat_minor": 0,
  "metadata": {
    "colab": {
      "provenance": []
    },
    "kernelspec": {
      "name": "python3",
      "display_name": "Python 3"
    },
    "language_info": {
      "name": "python"
    }
  },
  "cells": [
    {
      "cell_type": "code",
      "execution_count": 1,
      "metadata": {
        "colab": {
          "base_uri": "https://localhost:8080/"
        },
        "id": "gN_yjI7KsS2q",
        "outputId": "b4746db9-fa1d-4921-f45a-0deffaba53e1"
      },
      "outputs": [
        {
          "output_type": "stream",
          "name": "stdout",
          "text": [
            "0\n",
            "1\n",
            "2\n",
            "3\n",
            "4\n"
          ]
        }
      ],
      "source": [
        "n=0\n",
        "while n<10:\n",
        "  print(n)\n",
        "  n+=1\n",
        "  if n==5:\n",
        "    break"
      ]
    },
    {
      "cell_type": "code",
      "source": [
        "n=0\n",
        "while n<5:\n",
        "  print(n)\n",
        "  n+=1\n",
        "else:\n",
        "  print(n,\" is not less than 5\")\n"
      ],
      "metadata": {
        "colab": {
          "base_uri": "https://localhost:8080/"
        },
        "id": "jbaUP7-4vWTP",
        "outputId": "de4d5bb2-62f2-4d3d-a44c-4f2772fdaaa2"
      },
      "execution_count": 2,
      "outputs": [
        {
          "output_type": "stream",
          "name": "stdout",
          "text": [
            "0\n",
            "1\n",
            "2\n",
            "3\n",
            "4\n",
            "5  is not less than 5\n"
          ]
        }
      ]
    },
    {
      "cell_type": "code",
      "source": [
        "fav_fruit=[\"strawberries\",\"grapes\",\"blueberries\",\"apple\"]\n",
        "for fruit in fav_fruit:\n",
        "  if fruit == \"apple\":\n",
        "    print(fruit,\"Is really a fruit?\")\n",
        "    break\n",
        "  else:\n",
        "    print(\"I like\", fruit)\n",
        "  \n",
        "\n"
      ],
      "metadata": {
        "colab": {
          "base_uri": "https://localhost:8080/"
        },
        "id": "EPO8EuCayAfn",
        "outputId": "2d022562-93c9-4bff-c8da-004c39b10882"
      },
      "execution_count": 3,
      "outputs": [
        {
          "output_type": "stream",
          "name": "stdout",
          "text": [
            "I like strawberries\n",
            "I like grapes\n",
            "I like blueberries\n",
            "apple Is really a fruit?\n"
          ]
        }
      ]
    },
    {
      "cell_type": "code",
      "source": [
        "n=30\n",
        "num_sum=0\n",
        "i=1\n",
        "while i <= n:\n",
        "  num_sum = num_sum + i\n",
        "  i = i+1\n",
        "print(\"The sum is\",num_sum)"
      ],
      "metadata": {
        "colab": {
          "base_uri": "https://localhost:8080/"
        },
        "id": "AiXwM3nT8eAO",
        "outputId": "57a6dc7e-58b7-467f-8c8e-5e6be6c4f390"
      },
      "execution_count": 4,
      "outputs": [
        {
          "output_type": "stream",
          "name": "stdout",
          "text": [
            "The sum is 465\n"
          ]
        }
      ]
    },
    {
      "cell_type": "code",
      "source": [
        "grade = 92\n",
        "if grade >= 90:\n",
        "  print(\"A\")\n",
        "elif grade >= 80:\n",
        "  print(\"B\")\n",
        "elif grade >= 70:\n",
        "  print(\"C\")\n",
        "elif grade >= 60:\n",
        "  print(\"D\")\n",
        "else:\n",
        "  print(\"F\")"
      ],
      "metadata": {
        "colab": {
          "base_uri": "https://localhost:8080/"
        },
        "id": "UaG5dFUMQOcY",
        "outputId": "34a9dbaa-1baa-4e8a-a1db-68aa738d0509"
      },
      "execution_count": 5,
      "outputs": [
        {
          "output_type": "stream",
          "name": "stdout",
          "text": [
            "A\n"
          ]
        }
      ]
    },
    {
      "cell_type": "code",
      "source": [
        "marks = {\"Andy\":88,\"Amy\":66,\"James\": 90,\"Jules\": 55,\"Arthur\": 77}\n",
        "for name, grade in marks.items():\n",
        "  print(name,\":\",grade)"
      ],
      "metadata": {
        "colab": {
          "base_uri": "https://localhost:8080/"
        },
        "id": "bWNYdNwS5NUW",
        "outputId": "8e8924da-34ba-4d3f-d7d0-eaa883b3eafe"
      },
      "execution_count": 6,
      "outputs": [
        {
          "output_type": "stream",
          "name": "stdout",
          "text": [
            "Andy : 88\n",
            "Amy : 66\n",
            "James : 90\n",
            "Jules : 55\n",
            "Arthur : 77\n"
          ]
        }
      ]
    },
    {
      "cell_type": "code",
      "source": [
        "marks_avg = sum(marks.values()) / len(marks.values())\n",
        "marks_max = max(marks.values())\n",
        "marks_min = min(marks.values())\n",
        "print(marks_avg,marks_max,marks_min)"
      ],
      "metadata": {
        "colab": {
          "base_uri": "https://localhost:8080/"
        },
        "id": "iiL_UTlL5wBa",
        "outputId": "ab87c8f0-2d5c-4fc5-dc78-be71fb5c7ef5"
      },
      "execution_count": 7,
      "outputs": [
        {
          "output_type": "stream",
          "name": "stdout",
          "text": [
            "75.2 90 55\n"
          ]
        }
      ]
    },
    {
      "cell_type": "code",
      "source": [
        "for name in marks.keys():\n",
        "  if name[0]==\"J\":\n",
        "    break\n",
        "  else:\n",
        "    print(name)"
      ],
      "metadata": {
        "colab": {
          "base_uri": "https://localhost:8080/"
        },
        "id": "1c4dHDcG1bpx",
        "outputId": "ee11ca3f-daa2-4981-cc5b-8c19ab45537e"
      },
      "execution_count": 8,
      "outputs": [
        {
          "output_type": "stream",
          "name": "stdout",
          "text": [
            "Andy\n",
            "Amy\n"
          ]
        }
      ]
    },
    {
      "cell_type": "code",
      "source": [
        "for name in marks.keys():\n",
        "  if name[0]==\"J\":\n",
        "    continue\n",
        "  else:\n",
        "    print(name)"
      ],
      "metadata": {
        "colab": {
          "base_uri": "https://localhost:8080/"
        },
        "id": "gTcFohTN18Ht",
        "outputId": "9d592619-576b-40da-92ab-b42932fc9f08"
      },
      "execution_count": 9,
      "outputs": [
        {
          "output_type": "stream",
          "name": "stdout",
          "text": [
            "Andy\n",
            "Amy\n",
            "Arthur\n"
          ]
        }
      ]
    }
  ]
}