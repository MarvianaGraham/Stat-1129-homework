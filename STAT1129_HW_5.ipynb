{
  "nbformat": 4,
  "nbformat_minor": 0,
  "metadata": {
    "colab": {
      "provenance": []
    },
    "kernelspec": {
      "name": "python3",
      "display_name": "Python 3"
    },
    "language_info": {
      "name": "python"
    }
  },
  "cells": [
    {
      "cell_type": "markdown",
      "source": [
        "Question 1"
      ],
      "metadata": {
        "id": "hbxLfYzl-aIY"
      }
    },
    {
      "cell_type": "code",
      "source": [
        "class Human:\n",
        "  number_of_legs = 2\n",
        "  number_of_eyes = 2\n",
        "  number_of_fingers = 10\n",
        "  has_hair = True\n",
        "  \n",
        "  def __init__(self, name, age, eye_color, hair_color):\n",
        "    self.name = name\n",
        "    self.age = age\n",
        "    self.eye_color = eye_color\n",
        "    self.hair_color = hair_color\n",
        "  def introduce(self):\n",
        "    print(f'My name is {self.name} and I am {self.age}. I have {self.eye_color} eyes and {self.hair_color} hair.')\n",
        "\n",
        "A=Human(\"Fred\", 50 , \"green\", \"red\")\n",
        "B=Human(\"Jane\", 24, \"blue\", \"brown\")\n",
        "\n",
        "A.introduce()\n",
        "B.introduce()"
      ],
      "metadata": {
        "colab": {
          "base_uri": "https://localhost:8080/"
        },
        "id": "hiJaaJIDAKr9",
        "outputId": "4ac246bf-5b96-4f3b-9c12-e0bc7d92548e"
      },
      "execution_count": 1,
      "outputs": [
        {
          "output_type": "stream",
          "name": "stdout",
          "text": [
            "My name is Fred and I am 50. I have green eyes and red hair.\n",
            "My name is Jane and I am 24. I have blue eyes and brown hair.\n"
          ]
        }
      ]
    },
    {
      "cell_type": "markdown",
      "source": [
        "Question 2"
      ],
      "metadata": {
        "id": "gUtkR_WO-eZB"
      }
    },
    {
      "cell_type": "code",
      "source": [
        "import math\n",
        "\n",
        "class Point:\n",
        "  def __init__(self, x=0, y=0):\n",
        "    self.x = x\n",
        "    self.y = y\n",
        "  def distance(self):\n",
        "    return(self.x ** 2 + self.y **2)**0.5\n",
        "\n",
        "A=Point(3,4)\n",
        "A.distance()"
      ],
      "metadata": {
        "colab": {
          "base_uri": "https://localhost:8080/"
        },
        "id": "IlXjYtYG-gZz",
        "outputId": "b44cfba2-7bd6-4dc2-c657-d5121b9fc2e6"
      },
      "execution_count": 2,
      "outputs": [
        {
          "output_type": "execute_result",
          "data": {
            "text/plain": [
              "5.0"
            ]
          },
          "metadata": {},
          "execution_count": 2
        }
      ]
    },
    {
      "cell_type": "markdown",
      "source": [
        "Question 3"
      ],
      "metadata": {
        "id": "oK1_-6a0-g1L"
      }
    },
    {
      "cell_type": "code",
      "source": [
        "#(A) Class B inherits A, but the data field “i” in A is not inherited."
      ],
      "metadata": {
        "id": "Ydt0Hfd7-jOV"
      },
      "execution_count": null,
      "outputs": []
    },
    {
      "cell_type": "markdown",
      "source": [
        "Question 4"
      ],
      "metadata": {
        "id": "RkR0Yhy6-rju"
      }
    },
    {
      "cell_type": "code",
      "source": [
        "def main():\n",
        "  print(\"hello\", end=\"\")\n",
        "try:\n",
        "  if __name__==\"__main__\":\n",
        "    main()\n",
        "except:\n",
        "  print(\"name\")\n",
        "finally:\n",
        "  print(\"world\")"
      ],
      "metadata": {
        "colab": {
          "base_uri": "https://localhost:8080/"
        },
        "id": "h7vxM877-vMb",
        "outputId": "fd79bd8a-0062-4568-8c9b-6b9fe0c55d3e"
      },
      "execution_count": 4,
      "outputs": [
        {
          "output_type": "stream",
          "name": "stdout",
          "text": [
            "helloworld\n"
          ]
        }
      ]
    },
    {
      "cell_type": "markdown",
      "source": [
        "Question 5"
      ],
      "metadata": {
        "id": "Rhz9zTg0-r9Y"
      }
    },
    {
      "cell_type": "code",
      "source": [
        "# \"Which is incorrect\"\n",
        "#(B) The __init__ method is used to set initial values for attributes."
      ],
      "metadata": {
        "id": "drHIlJkc-xa9"
      },
      "execution_count": null,
      "outputs": []
    },
    {
      "cell_type": "markdown",
      "source": [
        "Question 6"
      ],
      "metadata": {
        "id": "aEdKJo_W-sJo"
      }
    },
    {
      "cell_type": "code",
      "source": [
        "x = \"hello\"\n",
        "if not type(x) is int:\n",
        "  raise TypeError(\"Only integers are allowed\")"
      ],
      "metadata": {
        "colab": {
          "base_uri": "https://localhost:8080/",
          "height": 209
        },
        "id": "0r3uGki_-02R",
        "outputId": "aae3d6d0-703c-4781-929b-6a7f1143c914"
      },
      "execution_count": 5,
      "outputs": [
        {
          "output_type": "error",
          "ename": "TypeError",
          "evalue": "ignored",
          "traceback": [
            "\u001b[0;31m---------------------------------------------------------------------------\u001b[0m",
            "\u001b[0;31mTypeError\u001b[0m                                 Traceback (most recent call last)",
            "\u001b[0;32m<ipython-input-5-c0549764ed53>\u001b[0m in \u001b[0;36m<cell line: 2>\u001b[0;34m()\u001b[0m\n\u001b[1;32m      1\u001b[0m \u001b[0mx\u001b[0m \u001b[0;34m=\u001b[0m \u001b[0;34m\"hello\"\u001b[0m\u001b[0;34m\u001b[0m\u001b[0;34m\u001b[0m\u001b[0m\n\u001b[1;32m      2\u001b[0m \u001b[0;32mif\u001b[0m \u001b[0;32mnot\u001b[0m \u001b[0mtype\u001b[0m\u001b[0;34m(\u001b[0m\u001b[0mx\u001b[0m\u001b[0;34m)\u001b[0m \u001b[0;32mis\u001b[0m \u001b[0mint\u001b[0m\u001b[0;34m:\u001b[0m\u001b[0;34m\u001b[0m\u001b[0;34m\u001b[0m\u001b[0m\n\u001b[0;32m----> 3\u001b[0;31m   \u001b[0;32mraise\u001b[0m \u001b[0mTypeError\u001b[0m\u001b[0;34m(\u001b[0m\u001b[0;34m\"Only integers are allowed\"\u001b[0m\u001b[0;34m)\u001b[0m\u001b[0;34m\u001b[0m\u001b[0;34m\u001b[0m\u001b[0m\n\u001b[0m",
            "\u001b[0;31mTypeError\u001b[0m: Only integers are allowed"
          ]
        }
      ]
    }
  ]
}