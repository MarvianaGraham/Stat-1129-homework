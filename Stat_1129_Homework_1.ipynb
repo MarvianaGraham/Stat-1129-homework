{
  "nbformat": 4,
  "nbformat_minor": 0,
  "metadata": {
    "colab": {
      "provenance": []
    },
    "kernelspec": {
      "name": "python3",
      "display_name": "Python 3"
    },
    "language_info": {
      "name": "python"
    }
  },
  "cells": [
    {
      "cell_type": "code",
      "execution_count": 43,
      "metadata": {
        "id": "kHj1-Y5tebHy",
        "colab": {
          "base_uri": "https://localhost:8080/"
        },
        "outputId": "76ea8f79-9b23-4309-9f56-08a3ff582d28"
      },
      "outputs": [
        {
          "output_type": "execute_result",
          "data": {
            "text/plain": [
              "[30, 35, 40, 45, 50, 55, 60]"
            ]
          },
          "metadata": {},
          "execution_count": 43
        }
      ],
      "source": [
        "numbers= list(range(30,61,5))\n",
        "print(numbers)"
      ]
    },
    {
      "cell_type": "code",
      "source": [
        "numbers.sort(reverse=True)\n",
        "print(numbers)"
      ],
      "metadata": {
        "colab": {
          "base_uri": "https://localhost:8080/"
        },
        "id": "TZE-RBzZc7CY",
        "outputId": "8c9d08c0-9a7b-428b-ca65-4f15314d888e"
      },
      "execution_count": 45,
      "outputs": [
        {
          "output_type": "execute_result",
          "data": {
            "text/plain": [
              "[60, 55, 50, 45, 40, 35, 30]"
            ]
          },
          "metadata": {},
          "execution_count": 45
        }
      ]
    },
    {
      "cell_type": "code",
      "source": [
        "numbers.insert(0,65)\n",
        "print(numbers)"
      ],
      "metadata": {
        "colab": {
          "base_uri": "https://localhost:8080/"
        },
        "id": "8_olg-wXc-35",
        "outputId": "dfb9b8f7-e53c-4823-c70a-1873c3a4cf83"
      },
      "execution_count": 46,
      "outputs": [
        {
          "output_type": "stream",
          "name": "stdout",
          "text": [
            "[65, 60, 55, 50, 45, 40, 35, 30]\n"
          ]
        }
      ]
    },
    {
      "cell_type": "code",
      "source": [
        "emptylist=[]\n",
        "emptylist.extend ((0,1,2,3,4,5,6,7,8,9,10,11,12,13,14,15,16,17,18,19,20))\n",
        "print(emptylist)\n",
        "\n",
        "                \n"
      ],
      "metadata": {
        "colab": {
          "base_uri": "https://localhost:8080/"
        },
        "id": "JRJiK2BHdmSo",
        "outputId": "46bf2fe0-bedf-40be-e45f-e3a19f59f0ff"
      },
      "execution_count": 59,
      "outputs": [
        {
          "output_type": "stream",
          "name": "stdout",
          "text": [
            "[0, 1, 2, 3, 4, 5, 6, 7, 8, 9, 10, 11, 12, 13, 14, 15, 16, 17, 18, 19, 20]\n"
          ]
        }
      ]
    },
    {
      "cell_type": "code",
      "source": [
        "del emptylist[0]\n",
        "print(emptylist)"
      ],
      "metadata": {
        "colab": {
          "base_uri": "https://localhost:8080/"
        },
        "id": "Te65ImF3yZaB",
        "outputId": "a06dd6fd-7688-47cb-d7c7-cbc42e2f3f28"
      },
      "execution_count": 60,
      "outputs": [
        {
          "output_type": "stream",
          "name": "stdout",
          "text": [
            "[1, 2, 3, 4, 5, 6, 7, 8, 9, 10, 11, 12, 13, 14, 15, 16, 17, 18, 19, 20]\n"
          ]
        }
      ]
    },
    {
      "cell_type": "code",
      "source": [
        "print(len(emptylist))\n",
        "print(max(emptylist))\n",
        "print(min(emptylist))\n"
      ],
      "metadata": {
        "colab": {
          "base_uri": "https://localhost:8080/"
        },
        "id": "7Gv2dK9uzZcT",
        "outputId": "9ce27c71-07a5-4256-aafc-570e10f1fc0b"
      },
      "execution_count": 66,
      "outputs": [
        {
          "output_type": "stream",
          "name": "stdout",
          "text": [
            "20\n",
            "20\n",
            "1\n"
          ]
        }
      ]
    },
    {
      "cell_type": "code",
      "source": [
        "emptylist_sum=0\n",
        "for number in emptylist:\n",
        "  emptylist_sum += number\n",
        "print(emptylist_sum)"
      ],
      "metadata": {
        "colab": {
          "base_uri": "https://localhost:8080/"
        },
        "id": "8AFDLoJF1NLk",
        "outputId": "e0a5e5d1-d276-413e-e55c-979dad1f0be5"
      },
      "execution_count": 67,
      "outputs": [
        {
          "output_type": "stream",
          "name": "stdout",
          "text": [
            "210\n"
          ]
        }
      ]
    },
    {
      "cell_type": "code",
      "source": [
        "weather = {\n",
        "    'Sunny':'play',\n",
        "    'Rainy':'watch tv',\n",
        "    'Cloudy':'walk'\n",
        "    }\n",
        "for key, value in weather.items ():\n",
        "    print( 'When', key, 'let us', value)"
      ],
      "metadata": {
        "colab": {
          "base_uri": "https://localhost:8080/"
        },
        "id": "X57Qr5dd3e5F",
        "outputId": "2ffc5227-3055-4794-c817-4ab720d8175a"
      },
      "execution_count": 75,
      "outputs": [
        {
          "output_type": "stream",
          "name": "stdout",
          "text": [
            "When Sunny let us play\n",
            "When Rainy let us watch tv\n",
            "When Cloudy let us walk\n"
          ]
        }
      ]
    },
    {
      "cell_type": "code",
      "source": [
        "weather ['snowy']= 'ski'\n",
        "print(weather)"
      ],
      "metadata": {
        "colab": {
          "base_uri": "https://localhost:8080/"
        },
        "id": "nO5veqJ08mCZ",
        "outputId": "7b109542-cbb7-4253-d6a3-0143b96c96ae"
      },
      "execution_count": 78,
      "outputs": [
        {
          "output_type": "stream",
          "name": "stdout",
          "text": [
            "{'Sunny': 'play', 'Rainy': 'watch tv', 'Cloudy': 'walk', 'snowy': 'ski'}\n"
          ]
        }
      ]
    }
  ]
}